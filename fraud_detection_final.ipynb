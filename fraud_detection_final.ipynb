{
 "cells": [
  {
   "cell_type": "code",
   "execution_count": 19,
   "metadata": {},
   "outputs": [
    {
     "name": "stdout",
     "output_type": "stream",
     "text": [
      "package 'Rborist' successfully unpacked and MD5 sums checked\n",
      "\n",
      "The downloaded binary packages are in\n",
      "\tC:\\Users\\35846\\AppData\\Local\\Temp\\RtmpIT1jKc\\downloaded_packages\n"
     ]
    }
   ],
   "source": [
    "install.packages('Rborist')"
   ]
  },
  {
   "cell_type": "code",
   "execution_count": 1,
   "metadata": {},
   "outputs": [
    {
     "name": "stderr",
     "output_type": "stream",
     "text": [
      "Loading required package: ggplot2\n",
      "\n",
      "Loading required package: lattice\n",
      "\n",
      "Type 'citation(\"pROC\")' for a citation.\n",
      "\n",
      "Loaded gbm 2.1.8.1\n",
      "\n",
      "corrplot 0.92 loaded\n",
      "\n",
      "Loading required package: Matrix\n",
      "\n",
      "Loaded glmnet 4.1-6\n",
      "\n",
      "Loaded ROSE 0.0-4\n",
      "\n",
      "\n",
      "Rborist 0.3-2\n",
      "\n",
      "Type RboristNews() to see new features/changes/bug fixes.\n",
      "\n"
     ]
    }
   ],
   "source": [
    "library(caTools, warn.conflicts = FALSE)   # for splitting data into training and test set\n",
    "library(ranger,warn.conflicts = FALSE)  # for faster implementaion of random forests\n",
    "library(caret, warn.conflicts = FALSE)     # for classification and regression training\n",
    "library(data.table, warn.conflicts = FALSE) # for converting data frame to table for faster execution\n",
    "library(pROC, warn.conflicts = FALSE) # for plotting ROC curve\n",
    "library(rpart, warn.conflicts = FALSE) # for regression trees\n",
    "library(rpart.plot, warn.conflicts = FALSE) # for plotting decision tree\n",
    "library(neuralnet, warn.conflicts = FALSE) #for neural network\n",
    "library(gbm, quietly=TRUE, warn.conflicts = FALSE)\n",
    "library(ggplot2, warn.conflicts = FALSE)  # for basic plot\n",
    "library(plyr, warn.conflicts = FALSE)\n",
    "library(dplyr, warn.conflicts = FALSE)  # for data manipulation\n",
    "library(corrplot, warn.conflicts = FALSE)  # for plotting corelation plot between elements\n",
    "library(glmnet, warn.conflicts = FALSE)\n",
    "library(Rtsne, warn.conflicts = FALSE)  # for plotting tsne model\n",
    "library(xgboost, warn.conflicts = FALSE) # # for xgboost model\n",
    "library(ROSE, warn.conflicts = FALSE)  # for rose sampling\n",
    "library(Rborist, warn.conflicts = FALSE) "
   ]
  },
  {
   "cell_type": "code",
   "execution_count": 3,
   "metadata": {},
   "outputs": [],
   "source": [
    "crdata <- read.csv(\"creditcard.csv\")"
   ]
  },
  {
   "cell_type": "code",
   "execution_count": 4,
   "metadata": {},
   "outputs": [
    {
     "data": {
      "text/html": [
       "<table class=\"dataframe\">\n",
       "<caption>A data.frame: 5 × 31</caption>\n",
       "<thead>\n",
       "\t<tr><th></th><th scope=col>Time</th><th scope=col>V1</th><th scope=col>V2</th><th scope=col>V3</th><th scope=col>V4</th><th scope=col>V5</th><th scope=col>V6</th><th scope=col>V7</th><th scope=col>V8</th><th scope=col>V9</th><th scope=col>...</th><th scope=col>V21</th><th scope=col>V22</th><th scope=col>V23</th><th scope=col>V24</th><th scope=col>V25</th><th scope=col>V26</th><th scope=col>V27</th><th scope=col>V28</th><th scope=col>Amount</th><th scope=col>Class</th></tr>\n",
       "\t<tr><th></th><th scope=col>&lt;dbl&gt;</th><th scope=col>&lt;dbl&gt;</th><th scope=col>&lt;dbl&gt;</th><th scope=col>&lt;dbl&gt;</th><th scope=col>&lt;dbl&gt;</th><th scope=col>&lt;dbl&gt;</th><th scope=col>&lt;dbl&gt;</th><th scope=col>&lt;dbl&gt;</th><th scope=col>&lt;dbl&gt;</th><th scope=col>&lt;dbl&gt;</th><th scope=col>...</th><th scope=col>&lt;dbl&gt;</th><th scope=col>&lt;dbl&gt;</th><th scope=col>&lt;dbl&gt;</th><th scope=col>&lt;dbl&gt;</th><th scope=col>&lt;dbl&gt;</th><th scope=col>&lt;dbl&gt;</th><th scope=col>&lt;dbl&gt;</th><th scope=col>&lt;dbl&gt;</th><th scope=col>&lt;dbl&gt;</th><th scope=col>&lt;int&gt;</th></tr>\n",
       "</thead>\n",
       "<tbody>\n",
       "\t<tr><th scope=row>1</th><td>0</td><td>-1.3598071</td><td>-0.07278117</td><td>2.5363467</td><td> 1.3781552</td><td>-0.33832077</td><td> 0.46238778</td><td> 0.23959855</td><td> 0.09869790</td><td> 0.3637870</td><td>...</td><td>-0.018306778</td><td> 0.277837576</td><td>-0.1104739</td><td> 0.06692807</td><td> 0.1285394</td><td>-0.1891148</td><td> 0.133558377</td><td>-0.02105305</td><td>149.62</td><td>0</td></tr>\n",
       "\t<tr><th scope=row>2</th><td>0</td><td> 1.1918571</td><td> 0.26615071</td><td>0.1664801</td><td> 0.4481541</td><td> 0.06001765</td><td>-0.08236081</td><td>-0.07880298</td><td> 0.08510165</td><td>-0.2554251</td><td>...</td><td>-0.225775248</td><td>-0.638671953</td><td> 0.1012880</td><td>-0.33984648</td><td> 0.1671704</td><td> 0.1258945</td><td>-0.008983099</td><td> 0.01472417</td><td>  2.69</td><td>0</td></tr>\n",
       "\t<tr><th scope=row>3</th><td>1</td><td>-1.3583541</td><td>-1.34016307</td><td>1.7732093</td><td> 0.3797796</td><td>-0.50319813</td><td> 1.80049938</td><td> 0.79146096</td><td> 0.24767579</td><td>-1.5146543</td><td>...</td><td> 0.247998153</td><td> 0.771679402</td><td> 0.9094123</td><td>-0.68928096</td><td>-0.3276418</td><td>-0.1390966</td><td>-0.055352794</td><td>-0.05975184</td><td>378.66</td><td>0</td></tr>\n",
       "\t<tr><th scope=row>4</th><td>1</td><td>-0.9662717</td><td>-0.18522601</td><td>1.7929933</td><td>-0.8632913</td><td>-0.01030888</td><td> 1.24720317</td><td> 0.23760894</td><td> 0.37743587</td><td>-1.3870241</td><td>...</td><td>-0.108300452</td><td> 0.005273597</td><td>-0.1903205</td><td>-1.17557533</td><td> 0.6473760</td><td>-0.2219288</td><td> 0.062722849</td><td> 0.06145763</td><td>123.50</td><td>0</td></tr>\n",
       "\t<tr><th scope=row>5</th><td>2</td><td>-1.1582331</td><td> 0.87773675</td><td>1.5487178</td><td> 0.4030339</td><td>-0.40719338</td><td> 0.09592146</td><td> 0.59294075</td><td>-0.27053268</td><td> 0.8177393</td><td>...</td><td>-0.009430697</td><td> 0.798278495</td><td>-0.1374581</td><td> 0.14126698</td><td>-0.2060096</td><td> 0.5022922</td><td> 0.219422230</td><td> 0.21515315</td><td> 69.99</td><td>0</td></tr>\n",
       "</tbody>\n",
       "</table>\n"
      ],
      "text/latex": [
       "A data.frame: 5 × 31\n",
       "\\begin{tabular}{r|lllllllllllllllllllll}\n",
       "  & Time & V1 & V2 & V3 & V4 & V5 & V6 & V7 & V8 & V9 & ... & V21 & V22 & V23 & V24 & V25 & V26 & V27 & V28 & Amount & Class\\\\\n",
       "  & <dbl> & <dbl> & <dbl> & <dbl> & <dbl> & <dbl> & <dbl> & <dbl> & <dbl> & <dbl> & ... & <dbl> & <dbl> & <dbl> & <dbl> & <dbl> & <dbl> & <dbl> & <dbl> & <dbl> & <int>\\\\\n",
       "\\hline\n",
       "\t1 & 0 & -1.3598071 & -0.07278117 & 2.5363467 &  1.3781552 & -0.33832077 &  0.46238778 &  0.23959855 &  0.09869790 &  0.3637870 & ... & -0.018306778 &  0.277837576 & -0.1104739 &  0.06692807 &  0.1285394 & -0.1891148 &  0.133558377 & -0.02105305 & 149.62 & 0\\\\\n",
       "\t2 & 0 &  1.1918571 &  0.26615071 & 0.1664801 &  0.4481541 &  0.06001765 & -0.08236081 & -0.07880298 &  0.08510165 & -0.2554251 & ... & -0.225775248 & -0.638671953 &  0.1012880 & -0.33984648 &  0.1671704 &  0.1258945 & -0.008983099 &  0.01472417 &   2.69 & 0\\\\\n",
       "\t3 & 1 & -1.3583541 & -1.34016307 & 1.7732093 &  0.3797796 & -0.50319813 &  1.80049938 &  0.79146096 &  0.24767579 & -1.5146543 & ... &  0.247998153 &  0.771679402 &  0.9094123 & -0.68928096 & -0.3276418 & -0.1390966 & -0.055352794 & -0.05975184 & 378.66 & 0\\\\\n",
       "\t4 & 1 & -0.9662717 & -0.18522601 & 1.7929933 & -0.8632913 & -0.01030888 &  1.24720317 &  0.23760894 &  0.37743587 & -1.3870241 & ... & -0.108300452 &  0.005273597 & -0.1903205 & -1.17557533 &  0.6473760 & -0.2219288 &  0.062722849 &  0.06145763 & 123.50 & 0\\\\\n",
       "\t5 & 2 & -1.1582331 &  0.87773675 & 1.5487178 &  0.4030339 & -0.40719338 &  0.09592146 &  0.59294075 & -0.27053268 &  0.8177393 & ... & -0.009430697 &  0.798278495 & -0.1374581 &  0.14126698 & -0.2060096 &  0.5022922 &  0.219422230 &  0.21515315 &  69.99 & 0\\\\\n",
       "\\end{tabular}\n"
      ],
      "text/markdown": [
       "\n",
       "A data.frame: 5 × 31\n",
       "\n",
       "| <!--/--> | Time &lt;dbl&gt; | V1 &lt;dbl&gt; | V2 &lt;dbl&gt; | V3 &lt;dbl&gt; | V4 &lt;dbl&gt; | V5 &lt;dbl&gt; | V6 &lt;dbl&gt; | V7 &lt;dbl&gt; | V8 &lt;dbl&gt; | V9 &lt;dbl&gt; | ... ... | V21 &lt;dbl&gt; | V22 &lt;dbl&gt; | V23 &lt;dbl&gt; | V24 &lt;dbl&gt; | V25 &lt;dbl&gt; | V26 &lt;dbl&gt; | V27 &lt;dbl&gt; | V28 &lt;dbl&gt; | Amount &lt;dbl&gt; | Class &lt;int&gt; |\n",
       "|---|---|---|---|---|---|---|---|---|---|---|---|---|---|---|---|---|---|---|---|---|---|\n",
       "| 1 | 0 | -1.3598071 | -0.07278117 | 2.5363467 |  1.3781552 | -0.33832077 |  0.46238778 |  0.23959855 |  0.09869790 |  0.3637870 | ... | -0.018306778 |  0.277837576 | -0.1104739 |  0.06692807 |  0.1285394 | -0.1891148 |  0.133558377 | -0.02105305 | 149.62 | 0 |\n",
       "| 2 | 0 |  1.1918571 |  0.26615071 | 0.1664801 |  0.4481541 |  0.06001765 | -0.08236081 | -0.07880298 |  0.08510165 | -0.2554251 | ... | -0.225775248 | -0.638671953 |  0.1012880 | -0.33984648 |  0.1671704 |  0.1258945 | -0.008983099 |  0.01472417 |   2.69 | 0 |\n",
       "| 3 | 1 | -1.3583541 | -1.34016307 | 1.7732093 |  0.3797796 | -0.50319813 |  1.80049938 |  0.79146096 |  0.24767579 | -1.5146543 | ... |  0.247998153 |  0.771679402 |  0.9094123 | -0.68928096 | -0.3276418 | -0.1390966 | -0.055352794 | -0.05975184 | 378.66 | 0 |\n",
       "| 4 | 1 | -0.9662717 | -0.18522601 | 1.7929933 | -0.8632913 | -0.01030888 |  1.24720317 |  0.23760894 |  0.37743587 | -1.3870241 | ... | -0.108300452 |  0.005273597 | -0.1903205 | -1.17557533 |  0.6473760 | -0.2219288 |  0.062722849 |  0.06145763 | 123.50 | 0 |\n",
       "| 5 | 2 | -1.1582331 |  0.87773675 | 1.5487178 |  0.4030339 | -0.40719338 |  0.09592146 |  0.59294075 | -0.27053268 |  0.8177393 | ... | -0.009430697 |  0.798278495 | -0.1374581 |  0.14126698 | -0.2060096 |  0.5022922 |  0.219422230 |  0.21515315 |  69.99 | 0 |\n",
       "\n"
      ],
      "text/plain": [
       "  Time V1         V2          V3        V4         V5          V6         \n",
       "1 0    -1.3598071 -0.07278117 2.5363467  1.3781552 -0.33832077  0.46238778\n",
       "2 0     1.1918571  0.26615071 0.1664801  0.4481541  0.06001765 -0.08236081\n",
       "3 1    -1.3583541 -1.34016307 1.7732093  0.3797796 -0.50319813  1.80049938\n",
       "4 1    -0.9662717 -0.18522601 1.7929933 -0.8632913 -0.01030888  1.24720317\n",
       "5 2    -1.1582331  0.87773675 1.5487178  0.4030339 -0.40719338  0.09592146\n",
       "  V7          V8          V9         ... V21          V22          V23       \n",
       "1  0.23959855  0.09869790  0.3637870 ... -0.018306778  0.277837576 -0.1104739\n",
       "2 -0.07880298  0.08510165 -0.2554251 ... -0.225775248 -0.638671953  0.1012880\n",
       "3  0.79146096  0.24767579 -1.5146543 ...  0.247998153  0.771679402  0.9094123\n",
       "4  0.23760894  0.37743587 -1.3870241 ... -0.108300452  0.005273597 -0.1903205\n",
       "5  0.59294075 -0.27053268  0.8177393 ... -0.009430697  0.798278495 -0.1374581\n",
       "  V24         V25        V26        V27          V28         Amount Class\n",
       "1  0.06692807  0.1285394 -0.1891148  0.133558377 -0.02105305 149.62 0    \n",
       "2 -0.33984648  0.1671704  0.1258945 -0.008983099  0.01472417   2.69 0    \n",
       "3 -0.68928096 -0.3276418 -0.1390966 -0.055352794 -0.05975184 378.66 0    \n",
       "4 -1.17557533  0.6473760 -0.2219288  0.062722849  0.06145763 123.50 0    \n",
       "5  0.14126698 -0.2060096  0.5022922  0.219422230  0.21515315  69.99 0    "
      ]
     },
     "metadata": {},
     "output_type": "display_data"
    }
   ],
   "source": [
    "head(crdata,5)"
   ]
  },
  {
   "cell_type": "markdown",
   "metadata": {},
   "source": [
    "#### Data Exploration"
   ]
  },
  {
   "cell_type": "code",
   "execution_count": 5,
   "metadata": {},
   "outputs": [
    {
     "data": {
      "text/html": [
       "<style>\n",
       ".list-inline {list-style: none; margin:0; padding: 0}\n",
       ".list-inline>li {display: inline-block}\n",
       ".list-inline>li:not(:last-child)::after {content: \"\\00b7\"; padding: 0 .5ex}\n",
       "</style>\n",
       "<ol class=list-inline><li>'Time'</li><li>'V1'</li><li>'V2'</li><li>'V3'</li><li>'V4'</li><li>'V5'</li><li>'V6'</li><li>'V7'</li><li>'V8'</li><li>'V9'</li><li>'V10'</li><li>'V11'</li><li>'V12'</li><li>'V13'</li><li>'V14'</li><li>'V15'</li><li>'V16'</li><li>'V17'</li><li>'V18'</li><li>'V19'</li><li>'V20'</li><li>'V21'</li><li>'V22'</li><li>'V23'</li><li>'V24'</li><li>'V25'</li><li>'V26'</li><li>'V27'</li><li>'V28'</li><li>'Amount'</li><li>'Class'</li></ol>\n"
      ],
      "text/latex": [
       "\\begin{enumerate*}\n",
       "\\item 'Time'\n",
       "\\item 'V1'\n",
       "\\item 'V2'\n",
       "\\item 'V3'\n",
       "\\item 'V4'\n",
       "\\item 'V5'\n",
       "\\item 'V6'\n",
       "\\item 'V7'\n",
       "\\item 'V8'\n",
       "\\item 'V9'\n",
       "\\item 'V10'\n",
       "\\item 'V11'\n",
       "\\item 'V12'\n",
       "\\item 'V13'\n",
       "\\item 'V14'\n",
       "\\item 'V15'\n",
       "\\item 'V16'\n",
       "\\item 'V17'\n",
       "\\item 'V18'\n",
       "\\item 'V19'\n",
       "\\item 'V20'\n",
       "\\item 'V21'\n",
       "\\item 'V22'\n",
       "\\item 'V23'\n",
       "\\item 'V24'\n",
       "\\item 'V25'\n",
       "\\item 'V26'\n",
       "\\item 'V27'\n",
       "\\item 'V28'\n",
       "\\item 'Amount'\n",
       "\\item 'Class'\n",
       "\\end{enumerate*}\n"
      ],
      "text/markdown": [
       "1. 'Time'\n",
       "2. 'V1'\n",
       "3. 'V2'\n",
       "4. 'V3'\n",
       "5. 'V4'\n",
       "6. 'V5'\n",
       "7. 'V6'\n",
       "8. 'V7'\n",
       "9. 'V8'\n",
       "10. 'V9'\n",
       "11. 'V10'\n",
       "12. 'V11'\n",
       "13. 'V12'\n",
       "14. 'V13'\n",
       "15. 'V14'\n",
       "16. 'V15'\n",
       "17. 'V16'\n",
       "18. 'V17'\n",
       "19. 'V18'\n",
       "20. 'V19'\n",
       "21. 'V20'\n",
       "22. 'V21'\n",
       "23. 'V22'\n",
       "24. 'V23'\n",
       "25. 'V24'\n",
       "26. 'V25'\n",
       "27. 'V26'\n",
       "28. 'V27'\n",
       "29. 'V28'\n",
       "30. 'Amount'\n",
       "31. 'Class'\n",
       "\n",
       "\n"
      ],
      "text/plain": [
       " [1] \"Time\"   \"V1\"     \"V2\"     \"V3\"     \"V4\"     \"V5\"     \"V6\"     \"V7\"    \n",
       " [9] \"V8\"     \"V9\"     \"V10\"    \"V11\"    \"V12\"    \"V13\"    \"V14\"    \"V15\"   \n",
       "[17] \"V16\"    \"V17\"    \"V18\"    \"V19\"    \"V20\"    \"V21\"    \"V22\"    \"V23\"   \n",
       "[25] \"V24\"    \"V25\"    \"V26\"    \"V27\"    \"V28\"    \"Amount\" \"Class\" "
      ]
     },
     "metadata": {},
     "output_type": "display_data"
    }
   ],
   "source": [
    "names(crdata) #column names"
   ]
  },
  {
   "cell_type": "code",
   "execution_count": 6,
   "metadata": {},
   "outputs": [
    {
     "name": "stdout",
     "output_type": "stream",
     "text": [
      "'data.frame':\t284807 obs. of  31 variables:\n",
      " $ Time  : num  0 0 1 1 2 2 4 7 7 9 ...\n",
      " $ V1    : num  -1.36 1.192 -1.358 -0.966 -1.158 ...\n",
      " $ V2    : num  -0.0728 0.2662 -1.3402 -0.1852 0.8777 ...\n",
      " $ V3    : num  2.536 0.166 1.773 1.793 1.549 ...\n",
      " $ V4    : num  1.378 0.448 0.38 -0.863 0.403 ...\n",
      " $ V5    : num  -0.3383 0.06 -0.5032 -0.0103 -0.4072 ...\n",
      " $ V6    : num  0.4624 -0.0824 1.8005 1.2472 0.0959 ...\n",
      " $ V7    : num  0.2396 -0.0788 0.7915 0.2376 0.5929 ...\n",
      " $ V8    : num  0.0987 0.0851 0.2477 0.3774 -0.2705 ...\n",
      " $ V9    : num  0.364 -0.255 -1.515 -1.387 0.818 ...\n",
      " $ V10   : num  0.0908 -0.167 0.2076 -0.055 0.7531 ...\n",
      " $ V11   : num  -0.552 1.613 0.625 -0.226 -0.823 ...\n",
      " $ V12   : num  -0.6178 1.0652 0.0661 0.1782 0.5382 ...\n",
      " $ V13   : num  -0.991 0.489 0.717 0.508 1.346 ...\n",
      " $ V14   : num  -0.311 -0.144 -0.166 -0.288 -1.12 ...\n",
      " $ V15   : num  1.468 0.636 2.346 -0.631 0.175 ...\n",
      " $ V16   : num  -0.47 0.464 -2.89 -1.06 -0.451 ...\n",
      " $ V17   : num  0.208 -0.115 1.11 -0.684 -0.237 ...\n",
      " $ V18   : num  0.0258 -0.1834 -0.1214 1.9658 -0.0382 ...\n",
      " $ V19   : num  0.404 -0.146 -2.262 -1.233 0.803 ...\n",
      " $ V20   : num  0.2514 -0.0691 0.525 -0.208 0.4085 ...\n",
      " $ V21   : num  -0.01831 -0.22578 0.248 -0.1083 -0.00943 ...\n",
      " $ V22   : num  0.27784 -0.63867 0.77168 0.00527 0.79828 ...\n",
      " $ V23   : num  -0.11 0.101 0.909 -0.19 -0.137 ...\n",
      " $ V24   : num  0.0669 -0.3398 -0.6893 -1.1756 0.1413 ...\n",
      " $ V25   : num  0.129 0.167 -0.328 0.647 -0.206 ...\n",
      " $ V26   : num  -0.189 0.126 -0.139 -0.222 0.502 ...\n",
      " $ V27   : num  0.13356 -0.00898 -0.05535 0.06272 0.21942 ...\n",
      " $ V28   : num  -0.0211 0.0147 -0.0598 0.0615 0.2152 ...\n",
      " $ Amount: num  149.62 2.69 378.66 123.5 69.99 ...\n",
      " $ Class : int  0 0 0 0 0 0 0 0 0 0 ...\n"
     ]
    }
   ],
   "source": [
    "str(crdata) # glance at the structure of the data set. last column class categorical column( other column numerical column)"
   ]
  },
  {
   "cell_type": "code",
   "execution_count": 7,
   "metadata": {},
   "outputs": [
    {
     "data": {
      "text/html": [
       "<style>\n",
       ".list-inline {list-style: none; margin:0; padding: 0}\n",
       ".list-inline>li {display: inline-block}\n",
       ".list-inline>li:not(:last-child)::after {content: \"\\00b7\"; padding: 0 .5ex}\n",
       "</style>\n",
       "<ol class=list-inline><li>284807</li><li>31</li></ol>\n"
      ],
      "text/latex": [
       "\\begin{enumerate*}\n",
       "\\item 284807\n",
       "\\item 31\n",
       "\\end{enumerate*}\n"
      ],
      "text/markdown": [
       "1. 284807\n",
       "2. 31\n",
       "\n",
       "\n"
      ],
      "text/plain": [
       "[1] 284807     31"
      ]
     },
     "metadata": {},
     "output_type": "display_data"
    }
   ],
   "source": [
    "dim(crdata) #rows and columns"
   ]
  },
  {
   "cell_type": "code",
   "execution_count": 8,
   "metadata": {},
   "outputs": [
    {
     "data": {
      "text/plain": [
       "      Time              V1                  V2                  V3          \n",
       " Min.   :     0   Min.   :-56.40751   Min.   :-72.71573   Min.   :-48.3256  \n",
       " 1st Qu.: 54202   1st Qu.: -0.92037   1st Qu.: -0.59855   1st Qu.: -0.8904  \n",
       " Median : 84692   Median :  0.01811   Median :  0.06549   Median :  0.1799  \n",
       " Mean   : 94814   Mean   :  0.00000   Mean   :  0.00000   Mean   :  0.0000  \n",
       " 3rd Qu.:139321   3rd Qu.:  1.31564   3rd Qu.:  0.80372   3rd Qu.:  1.0272  \n",
       " Max.   :172792   Max.   :  2.45493   Max.   : 22.05773   Max.   :  9.3826  \n",
       "       V4                 V5                   V6                 V7          \n",
       " Min.   :-5.68317   Min.   :-113.74331   Min.   :-26.1605   Min.   :-43.5572  \n",
       " 1st Qu.:-0.84864   1st Qu.:  -0.69160   1st Qu.: -0.7683   1st Qu.: -0.5541  \n",
       " Median :-0.01985   Median :  -0.05434   Median : -0.2742   Median :  0.0401  \n",
       " Mean   : 0.00000   Mean   :   0.00000   Mean   :  0.0000   Mean   :  0.0000  \n",
       " 3rd Qu.: 0.74334   3rd Qu.:   0.61193   3rd Qu.:  0.3986   3rd Qu.:  0.5704  \n",
       " Max.   :16.87534   Max.   :  34.80167   Max.   : 73.3016   Max.   :120.5895  \n",
       "       V8                  V9                 V10                 V11          \n",
       " Min.   :-73.21672   Min.   :-13.43407   Min.   :-24.58826   Min.   :-4.79747  \n",
       " 1st Qu.: -0.20863   1st Qu.: -0.64310   1st Qu.: -0.53543   1st Qu.:-0.76249  \n",
       " Median :  0.02236   Median : -0.05143   Median : -0.09292   Median :-0.03276  \n",
       " Mean   :  0.00000   Mean   :  0.00000   Mean   :  0.00000   Mean   : 0.00000  \n",
       " 3rd Qu.:  0.32735   3rd Qu.:  0.59714   3rd Qu.:  0.45392   3rd Qu.: 0.73959  \n",
       " Max.   : 20.00721   Max.   : 15.59500   Max.   : 23.74514   Max.   :12.01891  \n",
       "      V12                V13                V14                V15          \n",
       " Min.   :-18.6837   Min.   :-5.79188   Min.   :-19.2143   Min.   :-4.49894  \n",
       " 1st Qu.: -0.4056   1st Qu.:-0.64854   1st Qu.: -0.4256   1st Qu.:-0.58288  \n",
       " Median :  0.1400   Median :-0.01357   Median :  0.0506   Median : 0.04807  \n",
       " Mean   :  0.0000   Mean   : 0.00000   Mean   :  0.0000   Mean   : 0.00000  \n",
       " 3rd Qu.:  0.6182   3rd Qu.: 0.66251   3rd Qu.:  0.4931   3rd Qu.: 0.64882  \n",
       " Max.   :  7.8484   Max.   : 7.12688   Max.   : 10.5268   Max.   : 8.87774  \n",
       "      V16                 V17                 V18           \n",
       " Min.   :-14.12985   Min.   :-25.16280   Min.   :-9.498746  \n",
       " 1st Qu.: -0.46804   1st Qu.: -0.48375   1st Qu.:-0.498850  \n",
       " Median :  0.06641   Median : -0.06568   Median :-0.003636  \n",
       " Mean   :  0.00000   Mean   :  0.00000   Mean   : 0.000000  \n",
       " 3rd Qu.:  0.52330   3rd Qu.:  0.39968   3rd Qu.: 0.500807  \n",
       " Max.   : 17.31511   Max.   :  9.25353   Max.   : 5.041069  \n",
       "      V19                 V20                 V21           \n",
       " Min.   :-7.213527   Min.   :-54.49772   Min.   :-34.83038  \n",
       " 1st Qu.:-0.456299   1st Qu.: -0.21172   1st Qu.: -0.22839  \n",
       " Median : 0.003735   Median : -0.06248   Median : -0.02945  \n",
       " Mean   : 0.000000   Mean   :  0.00000   Mean   :  0.00000  \n",
       " 3rd Qu.: 0.458949   3rd Qu.:  0.13304   3rd Qu.:  0.18638  \n",
       " Max.   : 5.591971   Max.   : 39.42090   Max.   : 27.20284  \n",
       "      V22                  V23                 V24          \n",
       " Min.   :-10.933144   Min.   :-44.80774   Min.   :-2.83663  \n",
       " 1st Qu.: -0.542350   1st Qu.: -0.16185   1st Qu.:-0.35459  \n",
       " Median :  0.006782   Median : -0.01119   Median : 0.04098  \n",
       " Mean   :  0.000000   Mean   :  0.00000   Mean   : 0.00000  \n",
       " 3rd Qu.:  0.528554   3rd Qu.:  0.14764   3rd Qu.: 0.43953  \n",
       " Max.   : 10.503090   Max.   : 22.52841   Max.   : 4.58455  \n",
       "      V25                 V26                V27            \n",
       " Min.   :-10.29540   Min.   :-2.60455   Min.   :-22.565679  \n",
       " 1st Qu.: -0.31715   1st Qu.:-0.32698   1st Qu.: -0.070840  \n",
       " Median :  0.01659   Median :-0.05214   Median :  0.001342  \n",
       " Mean   :  0.00000   Mean   : 0.00000   Mean   :  0.000000  \n",
       " 3rd Qu.:  0.35072   3rd Qu.: 0.24095   3rd Qu.:  0.091045  \n",
       " Max.   :  7.51959   Max.   : 3.51735   Max.   : 31.612198  \n",
       "      V28                Amount             Class         \n",
       " Min.   :-15.43008   Min.   :    0.00   Min.   :0.000000  \n",
       " 1st Qu.: -0.05296   1st Qu.:    5.60   1st Qu.:0.000000  \n",
       " Median :  0.01124   Median :   22.00   Median :0.000000  \n",
       " Mean   :  0.00000   Mean   :   88.35   Mean   :0.001728  \n",
       " 3rd Qu.:  0.07828   3rd Qu.:   77.17   3rd Qu.:0.000000  \n",
       " Max.   : 33.84781   Max.   :25691.16   Max.   :1.000000  "
      ]
     },
     "metadata": {},
     "output_type": "display_data"
    }
   ],
   "source": [
    "summary(crdata)"
   ]
  },
  {
   "cell_type": "code",
   "execution_count": 9,
   "metadata": {},
   "outputs": [
    {
     "data": {
      "text/html": [
       "0"
      ],
      "text/latex": [
       "0"
      ],
      "text/markdown": [
       "0"
      ],
      "text/plain": [
       "[1] 0"
      ]
     },
     "metadata": {},
     "output_type": "display_data"
    }
   ],
   "source": [
    "sum(is.na(crdata)) #null value checking"
   ]
  },
  {
   "cell_type": "markdown",
   "metadata": {},
   "source": [
    "**there is no null values**"
   ]
  },
  {
   "cell_type": "code",
   "execution_count": 10,
   "metadata": {},
   "outputs": [
    {
     "data": {
      "text/plain": [
       "\n",
       "     0      1 \n",
       "284315    492 "
      ]
     },
     "metadata": {},
     "output_type": "display_data"
    }
   ],
   "source": [
    "table(crdata$Class) # get the distribution of fraud and legit transaction in dataset"
   ]
  },
  {
   "cell_type": "code",
   "execution_count": 11,
   "metadata": {},
   "outputs": [
    {
     "data": {
      "text/plain": [
       "\n",
       "          0           1 \n",
       "0.998272514 0.001727486 "
      ]
     },
     "metadata": {},
     "output_type": "display_data"
    }
   ],
   "source": [
    "prop.table(table(crdata$Class)) #percentage of the fraud and legit transaction"
   ]
  },
  {
   "cell_type": "code",
   "execution_count": 12,
   "metadata": {},
   "outputs": [
    {
     "data": {
      "image/png": "[encoded data removed]",
      "text/plain": [
       "Plot with title \"Pie chart of credit card transaction\""
      ]
     },
     "metadata": {
      "image/png": {
       "height": 420,
       "width": 420
      }
     },
     "output_type": "display_data"
    }
   ],
   "source": [
    "#pie chart of credit card transaction\n",
    "\n",
    "labels <- c(\"legit\", \"fraud\")\n",
    "labels <- paste(labels, round(100*(prop.table(table(crdata$Class))), 2)) # paste for concatenate and c for combine,2 for to round the percentage for 2 digit\n",
    "labels <- paste(labels, \"%\")\n",
    "\n",
    "pie((table(crdata$Class)), labels, col = c(\"orange\",\"red\"),\n",
    "    main = \"Pie chart of credit card transaction\") #title"
   ]
  },
  {
   "cell_type": "code",
   "execution_count": 14,
   "metadata": {},
   "outputs": [
    {
     "data": {
      "image/png": "[encoded data removed]",
      "text/plain": [
       "plot without title"
      ]
     },
     "metadata": {
      "image/png": {
       "height": 420,
       "width": 420
      }
     },
     "output_type": "display_data"
    }
   ],
   "source": [
    "common_theme <- theme(plot.title = element_text(hjust = 0.5, face = \"bold\"))\n",
    "ggplot(crdata, aes(x = Class)) + geom_bar() + ggtitle(\"Number of class labels\") + common_theme\n"
   ]
  },
  {
   "cell_type": "markdown",
   "metadata": {},
   "source": [
    "Clearly, the dataset is extremely unbalanced. Even a “null” classifier which always predicts class=0 would obtain over 99% accuracy on this task. This demonstrates that a simple measure of mean accuracy should not be used due to insensitivity to false negatives.\n"
   ]
  },
  {
   "cell_type": "markdown",
   "metadata": {},
   "source": [
    " ##### Data Preprocessing"
   ]
  },
  {
   "cell_type": "code",
   "execution_count": 3,
   "metadata": {},
   "outputs": [
    {
     "data": {
      "text/html": [
       "<table class=\"dataframe\">\n",
       "<caption>A data.frame: 6 × 30</caption>\n",
       "<thead>\n",
       "\t<tr><th></th><th scope=col>V1</th><th scope=col>V2</th><th scope=col>V3</th><th scope=col>V4</th><th scope=col>V5</th><th scope=col>V6</th><th scope=col>V7</th><th scope=col>V8</th><th scope=col>V9</th><th scope=col>V10</th><th scope=col>...</th><th scope=col>V21</th><th scope=col>V22</th><th scope=col>V23</th><th scope=col>V24</th><th scope=col>V25</th><th scope=col>V26</th><th scope=col>V27</th><th scope=col>V28</th><th scope=col>Amount</th><th scope=col>Class</th></tr>\n",
       "\t<tr><th></th><th scope=col>&lt;dbl&gt;</th><th scope=col>&lt;dbl&gt;</th><th scope=col>&lt;dbl&gt;</th><th scope=col>&lt;dbl&gt;</th><th scope=col>&lt;dbl&gt;</th><th scope=col>&lt;dbl&gt;</th><th scope=col>&lt;dbl&gt;</th><th scope=col>&lt;dbl&gt;</th><th scope=col>&lt;dbl&gt;</th><th scope=col>&lt;dbl&gt;</th><th scope=col>...</th><th scope=col>&lt;dbl&gt;</th><th scope=col>&lt;dbl&gt;</th><th scope=col>&lt;dbl&gt;</th><th scope=col>&lt;dbl&gt;</th><th scope=col>&lt;dbl&gt;</th><th scope=col>&lt;dbl&gt;</th><th scope=col>&lt;dbl&gt;</th><th scope=col>&lt;dbl&gt;</th><th scope=col>&lt;dbl&gt;</th><th scope=col>&lt;int&gt;</th></tr>\n",
       "</thead>\n",
       "<tbody>\n",
       "\t<tr><th scope=row>1</th><td>-1.3598071</td><td>-0.07278117</td><td>2.5363467</td><td> 1.3781552</td><td>-0.33832077</td><td> 0.46238778</td><td> 0.23959855</td><td> 0.09869790</td><td> 0.3637870</td><td> 0.09079417</td><td>...</td><td>-0.018306778</td><td> 0.277837576</td><td>-0.11047391</td><td> 0.06692807</td><td> 0.1285394</td><td>-0.1891148</td><td> 0.133558377</td><td>-0.02105305</td><td>149.62</td><td>0</td></tr>\n",
       "\t<tr><th scope=row>2</th><td> 1.1918571</td><td> 0.26615071</td><td>0.1664801</td><td> 0.4481541</td><td> 0.06001765</td><td>-0.08236081</td><td>-0.07880298</td><td> 0.08510165</td><td>-0.2554251</td><td>-0.16697441</td><td>...</td><td>-0.225775248</td><td>-0.638671953</td><td> 0.10128802</td><td>-0.33984648</td><td> 0.1671704</td><td> 0.1258945</td><td>-0.008983099</td><td> 0.01472417</td><td>  2.69</td><td>0</td></tr>\n",
       "\t<tr><th scope=row>3</th><td>-1.3583541</td><td>-1.34016307</td><td>1.7732093</td><td> 0.3797796</td><td>-0.50319813</td><td> 1.80049938</td><td> 0.79146096</td><td> 0.24767579</td><td>-1.5146543</td><td> 0.20764287</td><td>...</td><td> 0.247998153</td><td> 0.771679402</td><td> 0.90941226</td><td>-0.68928096</td><td>-0.3276418</td><td>-0.1390966</td><td>-0.055352794</td><td>-0.05975184</td><td>378.66</td><td>0</td></tr>\n",
       "\t<tr><th scope=row>4</th><td>-0.9662717</td><td>-0.18522601</td><td>1.7929933</td><td>-0.8632913</td><td>-0.01030888</td><td> 1.24720317</td><td> 0.23760894</td><td> 0.37743587</td><td>-1.3870241</td><td>-0.05495192</td><td>...</td><td>-0.108300452</td><td> 0.005273597</td><td>-0.19032052</td><td>-1.17557533</td><td> 0.6473760</td><td>-0.2219288</td><td> 0.062722849</td><td> 0.06145763</td><td>123.50</td><td>0</td></tr>\n",
       "\t<tr><th scope=row>5</th><td>-1.1582331</td><td> 0.87773675</td><td>1.5487178</td><td> 0.4030339</td><td>-0.40719338</td><td> 0.09592146</td><td> 0.59294075</td><td>-0.27053268</td><td> 0.8177393</td><td> 0.75307443</td><td>...</td><td>-0.009430697</td><td> 0.798278495</td><td>-0.13745808</td><td> 0.14126698</td><td>-0.2060096</td><td> 0.5022922</td><td> 0.219422230</td><td> 0.21515315</td><td> 69.99</td><td>0</td></tr>\n",
       "\t<tr><th scope=row>6</th><td>-0.4259659</td><td> 0.96052304</td><td>1.1411093</td><td>-0.1682521</td><td> 0.42098688</td><td>-0.02972755</td><td> 0.47620095</td><td> 0.26031433</td><td>-0.5686714</td><td>-0.37140720</td><td>...</td><td>-0.208253515</td><td>-0.559824796</td><td>-0.02639767</td><td>-0.37142658</td><td>-0.2327938</td><td> 0.1059148</td><td> 0.253844225</td><td> 0.08108026</td><td>  3.67</td><td>0</td></tr>\n",
       "</tbody>\n",
       "</table>\n"
      ],
      "text/latex": [
       "A data.frame: 6 × 30\n",
       "\\begin{tabular}{r|lllllllllllllllllllll}\n",
       "  & V1 & V2 & V3 & V4 & V5 & V6 & V7 & V8 & V9 & V10 & ... & V21 & V22 & V23 & V24 & V25 & V26 & V27 & V28 & Amount & Class\\\\\n",
       "  & <dbl> & <dbl> & <dbl> & <dbl> & <dbl> & <dbl> & <dbl> & <dbl> & <dbl> & <dbl> & ... & <dbl> & <dbl> & <dbl> & <dbl> & <dbl> & <dbl> & <dbl> & <dbl> & <dbl> & <int>\\\\\n",
       "\\hline\n",
       "\t1 & -1.3598071 & -0.07278117 & 2.5363467 &  1.3781552 & -0.33832077 &  0.46238778 &  0.23959855 &  0.09869790 &  0.3637870 &  0.09079417 & ... & -0.018306778 &  0.277837576 & -0.11047391 &  0.06692807 &  0.1285394 & -0.1891148 &  0.133558377 & -0.02105305 & 149.62 & 0\\\\\n",
       "\t2 &  1.1918571 &  0.26615071 & 0.1664801 &  0.4481541 &  0.06001765 & -0.08236081 & -0.07880298 &  0.08510165 & -0.2554251 & -0.16697441 & ... & -0.225775248 & -0.638671953 &  0.10128802 & -0.33984648 &  0.1671704 &  0.1258945 & -0.008983099 &  0.01472417 &   2.69 & 0\\\\\n",
       "\t3 & -1.3583541 & -1.34016307 & 1.7732093 &  0.3797796 & -0.50319813 &  1.80049938 &  0.79146096 &  0.24767579 & -1.5146543 &  0.20764287 & ... &  0.247998153 &  0.771679402 &  0.90941226 & -0.68928096 & -0.3276418 & -0.1390966 & -0.055352794 & -0.05975184 & 378.66 & 0\\\\\n",
       "\t4 & -0.9662717 & -0.18522601 & 1.7929933 & -0.8632913 & -0.01030888 &  1.24720317 &  0.23760894 &  0.37743587 & -1.3870241 & -0.05495192 & ... & -0.108300452 &  0.005273597 & -0.19032052 & -1.17557533 &  0.6473760 & -0.2219288 &  0.062722849 &  0.06145763 & 123.50 & 0\\\\\n",
       "\t5 & -1.1582331 &  0.87773675 & 1.5487178 &  0.4030339 & -0.40719338 &  0.09592146 &  0.59294075 & -0.27053268 &  0.8177393 &  0.75307443 & ... & -0.009430697 &  0.798278495 & -0.13745808 &  0.14126698 & -0.2060096 &  0.5022922 &  0.219422230 &  0.21515315 &  69.99 & 0\\\\\n",
       "\t6 & -0.4259659 &  0.96052304 & 1.1411093 & -0.1682521 &  0.42098688 & -0.02972755 &  0.47620095 &  0.26031433 & -0.5686714 & -0.37140720 & ... & -0.208253515 & -0.559824796 & -0.02639767 & -0.37142658 & -0.2327938 &  0.1059148 &  0.253844225 &  0.08108026 &   3.67 & 0\\\\\n",
       "\\end{tabular}\n"
      ],
      "text/markdown": [
       "\n",
       "A data.frame: 6 × 30\n",
       "\n",
       "| <!--/--> | V1 &lt;dbl&gt; | V2 &lt;dbl&gt; | V3 &lt;dbl&gt; | V4 &lt;dbl&gt; | V5 &lt;dbl&gt; | V6 &lt;dbl&gt; | V7 &lt;dbl&gt; | V8 &lt;dbl&gt; | V9 &lt;dbl&gt; | V10 &lt;dbl&gt; | ... ... | V21 &lt;dbl&gt; | V22 &lt;dbl&gt; | V23 &lt;dbl&gt; | V24 &lt;dbl&gt; | V25 &lt;dbl&gt; | V26 &lt;dbl&gt; | V27 &lt;dbl&gt; | V28 &lt;dbl&gt; | Amount &lt;dbl&gt; | Class &lt;int&gt; |\n",
       "|---|---|---|---|---|---|---|---|---|---|---|---|---|---|---|---|---|---|---|---|---|---|\n",
       "| 1 | -1.3598071 | -0.07278117 | 2.5363467 |  1.3781552 | -0.33832077 |  0.46238778 |  0.23959855 |  0.09869790 |  0.3637870 |  0.09079417 | ... | -0.018306778 |  0.277837576 | -0.11047391 |  0.06692807 |  0.1285394 | -0.1891148 |  0.133558377 | -0.02105305 | 149.62 | 0 |\n",
       "| 2 |  1.1918571 |  0.26615071 | 0.1664801 |  0.4481541 |  0.06001765 | -0.08236081 | -0.07880298 |  0.08510165 | -0.2554251 | -0.16697441 | ... | -0.225775248 | -0.638671953 |  0.10128802 | -0.33984648 |  0.1671704 |  0.1258945 | -0.008983099 |  0.01472417 |   2.69 | 0 |\n",
       "| 3 | -1.3583541 | -1.34016307 | 1.7732093 |  0.3797796 | -0.50319813 |  1.80049938 |  0.79146096 |  0.24767579 | -1.5146543 |  0.20764287 | ... |  0.247998153 |  0.771679402 |  0.90941226 | -0.68928096 | -0.3276418 | -0.1390966 | -0.055352794 | -0.05975184 | 378.66 | 0 |\n",
       "| 4 | -0.9662717 | -0.18522601 | 1.7929933 | -0.8632913 | -0.01030888 |  1.24720317 |  0.23760894 |  0.37743587 | -1.3870241 | -0.05495192 | ... | -0.108300452 |  0.005273597 | -0.19032052 | -1.17557533 |  0.6473760 | -0.2219288 |  0.062722849 |  0.06145763 | 123.50 | 0 |\n",
       "| 5 | -1.1582331 |  0.87773675 | 1.5487178 |  0.4030339 | -0.40719338 |  0.09592146 |  0.59294075 | -0.27053268 |  0.8177393 |  0.75307443 | ... | -0.009430697 |  0.798278495 | -0.13745808 |  0.14126698 | -0.2060096 |  0.5022922 |  0.219422230 |  0.21515315 |  69.99 | 0 |\n",
       "| 6 | -0.4259659 |  0.96052304 | 1.1411093 | -0.1682521 |  0.42098688 | -0.02972755 |  0.47620095 |  0.26031433 | -0.5686714 | -0.37140720 | ... | -0.208253515 | -0.559824796 | -0.02639767 | -0.37142658 | -0.2327938 |  0.1059148 |  0.253844225 |  0.08108026 |   3.67 | 0 |\n",
       "\n"
      ],
      "text/plain": [
       "  V1         V2          V3        V4         V5          V6         \n",
       "1 -1.3598071 -0.07278117 2.5363467  1.3781552 -0.33832077  0.46238778\n",
       "2  1.1918571  0.26615071 0.1664801  0.4481541  0.06001765 -0.08236081\n",
       "3 -1.3583541 -1.34016307 1.7732093  0.3797796 -0.50319813  1.80049938\n",
       "4 -0.9662717 -0.18522601 1.7929933 -0.8632913 -0.01030888  1.24720317\n",
       "5 -1.1582331  0.87773675 1.5487178  0.4030339 -0.40719338  0.09592146\n",
       "6 -0.4259659  0.96052304 1.1411093 -0.1682521  0.42098688 -0.02972755\n",
       "  V7          V8          V9         V10         ... V21          V22         \n",
       "1  0.23959855  0.09869790  0.3637870  0.09079417 ... -0.018306778  0.277837576\n",
       "2 -0.07880298  0.08510165 -0.2554251 -0.16697441 ... -0.225775248 -0.638671953\n",
       "3  0.79146096  0.24767579 -1.5146543  0.20764287 ...  0.247998153  0.771679402\n",
       "4  0.23760894  0.37743587 -1.3870241 -0.05495192 ... -0.108300452  0.005273597\n",
       "5  0.59294075 -0.27053268  0.8177393  0.75307443 ... -0.009430697  0.798278495\n",
       "6  0.47620095  0.26031433 -0.5686714 -0.37140720 ... -0.208253515 -0.559824796\n",
       "  V23         V24         V25        V26        V27          V28         Amount\n",
       "1 -0.11047391  0.06692807  0.1285394 -0.1891148  0.133558377 -0.02105305 149.62\n",
       "2  0.10128802 -0.33984648  0.1671704  0.1258945 -0.008983099  0.01472417   2.69\n",
       "3  0.90941226 -0.68928096 -0.3276418 -0.1390966 -0.055352794 -0.05975184 378.66\n",
       "4 -0.19032052 -1.17557533  0.6473760 -0.2219288  0.062722849  0.06145763 123.50\n",
       "5 -0.13745808  0.14126698 -0.2060096  0.5022922  0.219422230  0.21515315  69.99\n",
       "6 -0.02639767 -0.37142658 -0.2327938  0.1059148  0.253844225  0.08108026   3.67\n",
       "  Class\n",
       "1 0    \n",
       "2 0    \n",
       "3 0    \n",
       "4 0    \n",
       "5 0    \n",
       "6 0    "
      ]
     },
     "metadata": {},
     "output_type": "display_data"
    }
   ],
   "source": [
    "# scaling the data using standardization and remove the first column (time) from the data set\n",
    "#crdata$Amount <- scale(crdata$Amount)\n",
    "df <- crdata[, -c(1)]\n",
    "head(df)"
   ]
  },
  {
   "cell_type": "markdown",
   "metadata": {},
   "source": [
    "####  checking the corelation between all the variables and amount and class and see if there are any variables that corelate with each other."
   ]
  },
  {
   "cell_type": "code",
   "execution_count": null,
   "metadata": {},
   "outputs": [],
   "source": [
    "# correlation of anonymous variables with amount and class\n",
    "correlation <- cor(crdata[, -1], method = \"kendall\")\n",
    "corrplot(correlation, number.cex = 1, method = \"color\", type = \"full\", tl.cex=0.7, tl.col=\"black\")"
   ]
  },
  {
   "cell_type": "code",
   "execution_count": 4,
   "metadata": {},
   "outputs": [],
   "source": [
    "# change 'Class' variable to factor\n",
    "\n",
    "df$Class <- as.factor(df$Class)\n",
    "levels(df$Class) <- c(\"Not Fraud\", \"Fraud\")"
   ]
  },
  {
   "cell_type": "code",
   "execution_count": 5,
   "metadata": {},
   "outputs": [
    {
     "name": "stdout",
     "output_type": "stream",
     "text": [
      "'data.frame':\t284807 obs. of  30 variables:\n",
      " $ V1    : num  -1.36 1.192 -1.358 -0.966 -1.158 ...\n",
      " $ V2    : num  -0.0728 0.2662 -1.3402 -0.1852 0.8777 ...\n",
      " $ V3    : num  2.536 0.166 1.773 1.793 1.549 ...\n",
      " $ V4    : num  1.378 0.448 0.38 -0.863 0.403 ...\n",
      " $ V5    : num  -0.3383 0.06 -0.5032 -0.0103 -0.4072 ...\n",
      " $ V6    : num  0.4624 -0.0824 1.8005 1.2472 0.0959 ...\n",
      " $ V7    : num  0.2396 -0.0788 0.7915 0.2376 0.5929 ...\n",
      " $ V8    : num  0.0987 0.0851 0.2477 0.3774 -0.2705 ...\n",
      " $ V9    : num  0.364 -0.255 -1.515 -1.387 0.818 ...\n",
      " $ V10   : num  0.0908 -0.167 0.2076 -0.055 0.7531 ...\n",
      " $ V11   : num  -0.552 1.613 0.625 -0.226 -0.823 ...\n",
      " $ V12   : num  -0.6178 1.0652 0.0661 0.1782 0.5382 ...\n",
      " $ V13   : num  -0.991 0.489 0.717 0.508 1.346 ...\n",
      " $ V14   : num  -0.311 -0.144 -0.166 -0.288 -1.12 ...\n",
      " $ V15   : num  1.468 0.636 2.346 -0.631 0.175 ...\n",
      " $ V16   : num  -0.47 0.464 -2.89 -1.06 -0.451 ...\n",
      " $ V17   : num  0.208 -0.115 1.11 -0.684 -0.237 ...\n",
      " $ V18   : num  0.0258 -0.1834 -0.1214 1.9658 -0.0382 ...\n",
      " $ V19   : num  0.404 -0.146 -2.262 -1.233 0.803 ...\n",
      " $ V20   : num  0.2514 -0.0691 0.525 -0.208 0.4085 ...\n",
      " $ V21   : num  -0.01831 -0.22578 0.248 -0.1083 -0.00943 ...\n",
      " $ V22   : num  0.27784 -0.63867 0.77168 0.00527 0.79828 ...\n",
      " $ V23   : num  -0.11 0.101 0.909 -0.19 -0.137 ...\n",
      " $ V24   : num  0.0669 -0.3398 -0.6893 -1.1756 0.1413 ...\n",
      " $ V25   : num  0.129 0.167 -0.328 0.647 -0.206 ...\n",
      " $ V26   : num  -0.189 0.126 -0.139 -0.222 0.502 ...\n",
      " $ V27   : num  0.13356 -0.00898 -0.05535 0.06272 0.21942 ...\n",
      " $ V28   : num  -0.0211 0.0147 -0.0598 0.0615 0.2152 ...\n",
      " $ Amount: num  149.62 2.69 378.66 123.5 69.99 ...\n",
      " $ Class : Factor w/ 2 levels \"Not Fraud\",\"Fraud\": 1 1 1 1 1 1 1 1 1 1 ...\n"
     ]
    }
   ],
   "source": [
    "str(df)"
   ]
  },
  {
   "cell_type": "markdown",
   "metadata": {},
   "source": [
    "#### Data modeling"
   ]
  },
  {
   "cell_type": "code",
   "execution_count": 6,
   "metadata": {},
   "outputs": [],
   "source": [
    "# split the data into training set and test set\n",
    "set.seed(101)\n",
    "split <- sample.split(df$Class, SplitRatio = 0.8)\n",
    "train_data <- subset(df, split == TRUE)\n",
    "test_data <- subset(df, split == FALSE)\n"
   ]
  },
  {
   "cell_type": "code",
   "execution_count": 7,
   "metadata": {},
   "outputs": [
    {
     "data": {
      "text/html": [
       "<style>\n",
       ".list-inline {list-style: none; margin:0; padding: 0}\n",
       ".list-inline>li {display: inline-block}\n",
       ".list-inline>li:not(:last-child)::after {content: \"\\00b7\"; padding: 0 .5ex}\n",
       "</style>\n",
       "<ol class=list-inline><li>227846</li><li>30</li></ol>\n"
      ],
      "text/latex": [
       "\\begin{enumerate*}\n",
       "\\item 227846\n",
       "\\item 30\n",
       "\\end{enumerate*}\n"
      ],
      "text/markdown": [
       "1. 227846\n",
       "2. 30\n",
       "\n",
       "\n"
      ],
      "text/plain": [
       "[1] 227846     30"
      ]
     },
     "metadata": {},
     "output_type": "display_data"
    }
   ],
   "source": [
    "dim(train_data)"
   ]
  },
  {
   "cell_type": "code",
   "execution_count": 8,
   "metadata": {},
   "outputs": [
    {
     "data": {
      "text/html": [
       "<style>\n",
       ".list-inline {list-style: none; margin:0; padding: 0}\n",
       ".list-inline>li {display: inline-block}\n",
       ".list-inline>li:not(:last-child)::after {content: \"\\00b7\"; padding: 0 .5ex}\n",
       "</style>\n",
       "<ol class=list-inline><li>56961</li><li>30</li></ol>\n"
      ],
      "text/latex": [
       "\\begin{enumerate*}\n",
       "\\item 56961\n",
       "\\item 30\n",
       "\\end{enumerate*}\n"
      ],
      "text/markdown": [
       "1. 56961\n",
       "2. 30\n",
       "\n",
       "\n"
      ],
      "text/plain": [
       "[1] 56961    30"
      ]
     },
     "metadata": {},
     "output_type": "display_data"
    }
   ],
   "source": [
    "dim(test_data)"
   ]
  },
  {
   "cell_type": "code",
   "execution_count": null,
   "metadata": {},
   "outputs": [],
   "source": [
    "# visualize the training data\n",
    "train_data %>% ggplot(aes(x = factor(Class), y = prop.table(after_stat(count)), fill = factor(Class))) +\n",
    "  geom_bar(position = \"dodge\") +\n",
    "  scale_y_continuous(labels = scales::percent) +\n",
    "  labs(x = 'Class', y = 'Percentage', title = 'Training Class distributions') +\n",
    "  theme_grey()"
   ]
  },
  {
   "cell_type": "markdown",
   "metadata": {},
   "source": [
    "#### Sampling Techniques"
   ]
  },
  {
   "cell_type": "code",
   "execution_count": 9,
   "metadata": {},
   "outputs": [
    {
     "data": {
      "text/plain": [
       "\n",
       "Not Fraud     Fraud \n",
       "   114081    113765 "
      ]
     },
     "metadata": {},
     "output_type": "display_data"
    }
   ],
   "source": [
    "set.seed(9560)\n",
    "rose_train_data <- ROSE(Class ~ ., data  = train_data)$data \n",
    "\n",
    "table(rose_train_data$Class) "
   ]
  },
  {
   "cell_type": "code",
   "execution_count": 10,
   "metadata": {},
   "outputs": [
    {
     "data": {
      "text/plain": [
       "\n",
       "Not Fraud     Fraud \n",
       "   227452    227452 "
      ]
     },
     "metadata": {},
     "output_type": "display_data"
    }
   ],
   "source": [
    "set.seed(90)\n",
    "up_train_data <- upSample(x = train_data[, -30],\n",
    "                         y = train_data$Class)\n",
    "table(up_train_data$Class)  "
   ]
  },
  {
   "cell_type": "code",
   "execution_count": 11,
   "metadata": {},
   "outputs": [
    {
     "data": {
      "text/plain": [
       "\n",
       "Not Fraud     Fraud \n",
       "      394       394 "
      ]
     },
     "metadata": {},
     "output_type": "display_data"
    }
   ],
   "source": [
    "set.seed(90)\n",
    "down_train_data <- downSample(x = train_data[, -30],\n",
    "                         y = train_data$Class)\n",
    "table(down_train_data$Class)  "
   ]
  },
  {
   "cell_type": "code",
   "execution_count": 12,
   "metadata": {},
   "outputs": [
    {
     "name": "stderr",
     "output_type": "stream",
     "text": [
      "Warning message:\n",
      "\"glm.fit: fitted probabilities numerically 0 or 1 occurred\"\n"
     ]
    }
   ],
   "source": [
    "# fitting the logistic model\n",
    "logistic_model <- glm(Class ~ ., down_train_data, family='binomial')"
   ]
  },
  {
   "cell_type": "code",
   "execution_count": 13,
   "metadata": {},
   "outputs": [
    {
     "data": {
      "text/plain": [
       "\n",
       "Call:\n",
       "glm(formula = Class ~ ., family = \"binomial\", data = down_train_data)\n",
       "\n",
       "Deviance Residuals: \n",
       "    Min       1Q   Median       3Q      Max  \n",
       "-1.9751  -0.1495   0.0000   0.0000   2.8872  \n",
       "\n",
       "Coefficients:\n",
       "             Estimate Std. Error z value Pr(>|z|)   \n",
       "(Intercept)  -22.1978    10.3118  -2.153  0.03135 * \n",
       "V1            -1.4050     4.9949  -0.281  0.77849   \n",
       "V2            38.1657    16.5913   2.300  0.02143 * \n",
       "V3           -23.0958    12.8639  -1.795  0.07259 . \n",
       "V4            16.5600     8.4753   1.954  0.05071 . \n",
       "V5            -6.1526     7.5379  -0.816  0.41437   \n",
       "V6           -17.5137     7.6765  -2.281  0.02252 * \n",
       "V7           -64.9911    29.1111  -2.233  0.02558 * \n",
       "V8            11.9842     5.4448   2.201  0.02773 * \n",
       "V9           -21.6678    10.6605  -2.033  0.04210 * \n",
       "V10          -50.0094    24.5796  -2.035  0.04189 * \n",
       "V11           39.0282    19.0878   2.045  0.04089 * \n",
       "V12          -70.7328    34.2875  -2.063  0.03912 * \n",
       "V13           -1.0988     0.6986  -1.573  0.11575   \n",
       "V14          -76.2379    36.6618  -2.079  0.03757 * \n",
       "V15           -3.2488     1.1611  -2.798  0.00514 **\n",
       "V16          -67.5105    32.6616  -2.067  0.03874 * \n",
       "V17         -119.1490    58.1574  -2.049  0.04049 * \n",
       "V18          -45.1731    22.0164  -2.052  0.04019 * \n",
       "V19           18.3937     8.4246   2.183  0.02901 * \n",
       "V20           -9.4421     5.3421  -1.767  0.07715 . \n",
       "V21            4.2473     3.2870   1.292  0.19630   \n",
       "V22            7.4754     3.1069   2.406  0.01612 * \n",
       "V23           19.6558     9.3029   2.113  0.03461 * \n",
       "V24           -2.2600     1.0612  -2.130  0.03320 * \n",
       "V25            9.2787     4.3697   2.123  0.03372 * \n",
       "V26            1.0838     1.2294   0.882  0.37798   \n",
       "V27            5.4597     4.9142   1.111  0.26657   \n",
       "V28           22.1023    11.4750   1.926  0.05409 . \n",
       "Amount         0.2310     0.1073   2.153  0.03130 * \n",
       "---\n",
       "Signif. codes:  0 '***' 0.001 '**' 0.01 '*' 0.05 '.' 0.1 ' ' 1\n",
       "\n",
       "(Dispersion parameter for binomial family taken to be 1)\n",
       "\n",
       "    Null deviance: 1092.40  on 787  degrees of freedom\n",
       "Residual deviance:  147.83  on 758  degrees of freedom\n",
       "AIC: 207.83\n",
       "\n",
       "Number of Fisher Scoring iterations: 23\n"
      ]
     },
     "metadata": {},
     "output_type": "display_data"
    }
   ],
   "source": [
    "summary(logistic_model)"
   ]
  },
  {
   "cell_type": "code",
   "execution_count": 14,
   "metadata": {},
   "outputs": [
    {
     "data": {
      "image/png": "[encoded data removed]",
      "text/plain": [
       "Plot with title \"\""
      ]
     },
     "metadata": {
      "image/png": {
       "height": 420,
       "width": 420
      }
     },
     "output_type": "display_data"
    },
    {
     "data": {
      "image/png": "[encoded data removed]",
      "text/plain": [
       "Plot with title \"\""
      ]
     },
     "metadata": {
      "image/png": {
       "height": 420,
       "width": 420
      }
     },
     "output_type": "display_data"
    },
    {
     "data": {
      "image/png": "[encoded data removed]",
      "text/plain": [
       "Plot with title \"\""
      ]
     },
     "metadata": {
      "image/png": {
       "height": 420,
       "width": 420
      }
     },
     "output_type": "display_data"
    },
    {
     "data": {
      "image/png": "[encoded data removed]",
      "text/plain": [
       "Plot with title \"\""
      ]
     },
     "metadata": {
      "image/png": {
       "height": 420,
       "width": 420
      }
     },
     "output_type": "display_data"
    }
   ],
   "source": [
    "plot(logistic_model)"
   ]
  },
  {
   "cell_type": "code",
   "execution_count": 17,
   "metadata": {},
   "outputs": [
    {
     "data": {
      "text/plain": [
       "Area under the curve (AUC): 0.964"
      ]
     },
     "metadata": {},
     "output_type": "display_data"
    },
    {
     "data": {
      "image/png": "[encoded data removed]",
      "text/plain": [
       "Plot with title \"ROC curve\""
      ]
     },
     "metadata": {
      "image/png": {
       "height": 420,
       "width": 420
      }
     },
     "output_type": "display_data"
    }
   ],
   "source": [
    "logistic_predictions <- predict(logistic_model, test_data, type='response')\n",
    "roc.curve(test_data$Class, logistic_predictions, plotit = TRUE, col = \"red\")"
   ]
  },
  {
   "cell_type": "code",
   "execution_count": 16,
   "metadata": {},
   "outputs": [
    {
     "data": {
      "image/png": "[encoded data removed]",
      "text/plain": [
       "plot without title"
      ]
     },
     "metadata": {
      "image/png": {
       "height": 420,
       "width": 420
      }
     },
     "output_type": "display_data"
    }
   ],
   "source": [
    "decisionTree_model <- rpart(Class ~ . , down_train_data, method = 'class')\n",
    "predicted_val <- predict(decisionTree_model, down_train_data, type = 'class')\n",
    "probability <- predict(decisionTree_model, down_train_data, type = 'prob')\n",
    "rpart.plot(decisionTree_model)"
   ]
  },
  {
   "cell_type": "code",
   "execution_count": 21,
   "metadata": {},
   "outputs": [
    {
     "data": {
      "text/plain": [
       "Area under the curve (AUC): 0.967"
      ]
     },
     "metadata": {},
     "output_type": "display_data"
    },
    {
     "data": {
      "image/png": "[encoded data removed]",
      "text/plain": [
       "Plot with title \"ROC curve\""
      ]
     },
     "metadata": {
      "image/png": {
       "height": 420,
       "width": 420
      }
     },
     "output_type": "display_data"
    }
   ],
   "source": [
    "x = down_train_data[, -30]\n",
    "y = down_train_data[,30]\n",
    "\n",
    "rf_fit <- Rborist(x, y, ntree = 1000, minNode = 20, maxLeaf = 13)\n",
    "\n",
    "\n",
    "rf_pred <- predict(rf_fit, test_data[,-30], ctgCensus = \"prob\")\n",
    "prob <- rf_pred$prob\n",
    "\n",
    "roc.curve(test_data$Class, prob[,2], plotit = TRUE, col = 'blue')"
   ]
  },
  {
   "cell_type": "code",
   "execution_count": 22,
   "metadata": {},
   "outputs": [],
   "source": [
    "set.seed(40)\n",
    "\n",
    "#Convert class labels from factor to numeric\n",
    "labels <- down_train_data$Class\n",
    "y <- recode(labels, 'Not Fraud' = 0, \"Fraud\" = 1)\n",
    "\n",
    "# xgb fit\n",
    "xgb_fit <- xgboost(data = data.matrix(down_train_data[,-30]), \n",
    " label = y,\n",
    " eta = 0.1,\n",
    " gamma = 0.1,\n",
    " max_depth = 10, \n",
    " nrounds = 300, \n",
    " objective = \"binary:logistic\",\n",
    " colsample_bytree = 0.6,\n",
    " verbose = 0,\n",
    " nthread = 7\n",
    ")"
   ]
  },
  {
   "cell_type": "code",
   "execution_count": 23,
   "metadata": {},
   "outputs": [
    {
     "data": {
      "text/plain": [
       "Area under the curve (AUC): 0.968"
      ]
     },
     "metadata": {},
     "output_type": "display_data"
    },
    {
     "data": {
      "image/png": "[encoded data removed]",
      "text/plain": [
       "Plot with title \"ROC curve\""
      ]
     },
     "metadata": {
      "image/png": {
       "height": 420,
       "width": 420
      }
     },
     "output_type": "display_data"
    }
   ],
   "source": [
    "# XGBoost predictions\n",
    "xgb_pred <- predict(xgb_fit, data.matrix(test_data[,-30]))\n",
    "roc.curve(test_data$Class, xgb_pred, plotit = TRUE)"
   ]
  },
  {
   "cell_type": "code",
   "execution_count": null,
   "metadata": {},
   "outputs": [],
   "source": []
  }
 ],
 "metadata": {
  "kernelspec": {
   "display_name": "R [conda env:seurat4]",
   "language": "R",
   "name": "conda-env-seurat4-r"
  },
  "language_info": {
   "codemirror_mode": "r",
   "file_extension": ".r",
   "mimetype": "text/x-r-source",
   "name": "R",
   "pygments_lexer": "r",
   "version": "4.1.3"
  }
 },
 "nbformat": 4,
 "nbformat_minor": 4
}
